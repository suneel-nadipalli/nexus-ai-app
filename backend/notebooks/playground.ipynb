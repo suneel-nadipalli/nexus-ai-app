{
 "cells": [
  {
   "cell_type": "code",
   "execution_count": 8,
   "metadata": {},
   "outputs": [
    {
     "name": "stdout",
     "output_type": "stream",
     "text": [
      "The autoreload extension is already loaded. To reload it, use:\n",
      "  %reload_ext autoreload\n"
     ]
    }
   ],
   "source": [
    "%load_ext autoreload\n",
    "%autoreload 2"
   ]
  },
  {
   "cell_type": "code",
   "execution_count": 9,
   "metadata": {},
   "outputs": [],
   "source": [
    "from datasets import load_dataset\n",
    "\n",
    "import pandas as pd"
   ]
  },
  {
   "cell_type": "code",
   "execution_count": 2,
   "metadata": {},
   "outputs": [
    {
     "name": "stderr",
     "output_type": "stream",
     "text": [
      "c:\\Me\\Duke\\Classes\\Spring '24\\AIPI 540 - Deep Learning\\Individual Project\\workspace\\.venv\\Lib\\site-packages\\tqdm\\auto.py:21: TqdmWarning: IProgress not found. Please update jupyter and ipywidgets. See https://ipywidgets.readthedocs.io/en/stable/user_install.html\n",
      "  from .autonotebook import tqdm as notebook_tqdm\n",
      "c:\\Me\\Duke\\Classes\\Spring '24\\AIPI 540 - Deep Learning\\Individual Project\\workspace\\.venv\\Lib\\site-packages\\datasets\\load.py:1486: FutureWarning: The repository for ccdv/arxiv-summarization contains custom code which must be executed to correctly load the dataset. You can inspect the repository content at https://hf.co/datasets/ccdv/arxiv-summarization\n",
      "You can avoid this message in future by passing the argument `trust_remote_code=True`.\n",
      "Passing `trust_remote_code=True` will be mandatory to load this dataset from the next major release of `datasets`.\n",
      "  warnings.warn(\n",
      "Downloading data: 100%|██████████| 102M/102M [00:04<00:00, 22.1MB/s] \n",
      "Downloading data: 100%|██████████| 102M/102M [00:04<00:00, 24.0MB/s] \n",
      "Generating train split: 203037 examples [03:26, 983.27 examples/s] \n",
      "Generating validation split: 6436 examples [00:06, 1031.55 examples/s]\n",
      "Generating test split: 6440 examples [00:06, 1038.45 examples/s]\n"
     ]
    }
   ],
   "source": [
    "dataset = load_dataset(\"ccdv/arxiv-summarization\")"
   ]
  },
  {
   "cell_type": "code",
   "execution_count": 3,
   "metadata": {},
   "outputs": [
    {
     "data": {
      "text/plain": [
       "DatasetDict({\n",
       "    train: Dataset({\n",
       "        features: ['article', 'abstract'],\n",
       "        num_rows: 203037\n",
       "    })\n",
       "    validation: Dataset({\n",
       "        features: ['article', 'abstract'],\n",
       "        num_rows: 6436\n",
       "    })\n",
       "    test: Dataset({\n",
       "        features: ['article', 'abstract'],\n",
       "        num_rows: 6440\n",
       "    })\n",
       "})"
      ]
     },
     "execution_count": 3,
     "metadata": {},
     "output_type": "execute_result"
    }
   ],
   "source": [
    "dataset"
   ]
  },
  {
   "cell_type": "code",
   "execution_count": 10,
   "metadata": {},
   "outputs": [],
   "source": [
    "train_df = pd.DataFrame(dataset['train'])\n",
    "test_df = pd.DataFrame(dataset['test'])\n",
    "val_df = pd.DataFrame(dataset['validation'])"
   ]
  },
  {
   "cell_type": "code",
   "execution_count": 11,
   "metadata": {},
   "outputs": [
    {
     "data": {
      "text/html": [
       "<div>\n",
       "<style scoped>\n",
       "    .dataframe tbody tr th:only-of-type {\n",
       "        vertical-align: middle;\n",
       "    }\n",
       "\n",
       "    .dataframe tbody tr th {\n",
       "        vertical-align: top;\n",
       "    }\n",
       "\n",
       "    .dataframe thead th {\n",
       "        text-align: right;\n",
       "    }\n",
       "</style>\n",
       "<table border=\"1\" class=\"dataframe\">\n",
       "  <thead>\n",
       "    <tr style=\"text-align: right;\">\n",
       "      <th></th>\n",
       "      <th>article</th>\n",
       "      <th>abstract</th>\n",
       "    </tr>\n",
       "  </thead>\n",
       "  <tbody>\n",
       "    <tr>\n",
       "      <th>0</th>\n",
       "      <td>additive models @xcite provide an important fa...</td>\n",
       "      <td>additive models play an important role in semi...</td>\n",
       "    </tr>\n",
       "    <tr>\n",
       "      <th>1</th>\n",
       "      <td>the leptonic decays of a charged pseudoscalar ...</td>\n",
       "      <td>we have studied the leptonic decay @xmath0 , v...</td>\n",
       "    </tr>\n",
       "    <tr>\n",
       "      <th>2</th>\n",
       "      <td>the transport properties of nonlinear non - eq...</td>\n",
       "      <td>in 84 , 258 ( 2000 ) , mateos conjectured that...</td>\n",
       "    </tr>\n",
       "    <tr>\n",
       "      <th>3</th>\n",
       "      <td>studies of laser beams propagating through tur...</td>\n",
       "      <td>the effect of a random phase diffuser on fluct...</td>\n",
       "    </tr>\n",
       "    <tr>\n",
       "      <th>4</th>\n",
       "      <td>the so - called `` nucleon spin crisis '' rais...</td>\n",
       "      <td>with a special intention of clarifying the und...</td>\n",
       "    </tr>\n",
       "  </tbody>\n",
       "</table>\n",
       "</div>"
      ],
      "text/plain": [
       "                                             article  \\\n",
       "0  additive models @xcite provide an important fa...   \n",
       "1  the leptonic decays of a charged pseudoscalar ...   \n",
       "2  the transport properties of nonlinear non - eq...   \n",
       "3  studies of laser beams propagating through tur...   \n",
       "4  the so - called `` nucleon spin crisis '' rais...   \n",
       "\n",
       "                                            abstract  \n",
       "0  additive models play an important role in semi...  \n",
       "1  we have studied the leptonic decay @xmath0 , v...  \n",
       "2  in 84 , 258 ( 2000 ) , mateos conjectured that...  \n",
       "3  the effect of a random phase diffuser on fluct...  \n",
       "4  with a special intention of clarifying the und...  "
      ]
     },
     "execution_count": 11,
     "metadata": {},
     "output_type": "execute_result"
    }
   ],
   "source": [
    "train_df.head()"
   ]
  },
  {
   "cell_type": "code",
   "execution_count": 13,
   "metadata": {},
   "outputs": [
    {
     "data": {
      "text/html": [
       "<div>\n",
       "<style scoped>\n",
       "    .dataframe tbody tr th:only-of-type {\n",
       "        vertical-align: middle;\n",
       "    }\n",
       "\n",
       "    .dataframe tbody tr th {\n",
       "        vertical-align: top;\n",
       "    }\n",
       "\n",
       "    .dataframe thead th {\n",
       "        text-align: right;\n",
       "    }\n",
       "</style>\n",
       "<table border=\"1\" class=\"dataframe\">\n",
       "  <thead>\n",
       "    <tr style=\"text-align: right;\">\n",
       "      <th></th>\n",
       "      <th>article</th>\n",
       "      <th>abstract</th>\n",
       "    </tr>\n",
       "  </thead>\n",
       "  <tbody>\n",
       "    <tr>\n",
       "      <th>0</th>\n",
       "      <td>for about 20 years the problem of properties o...</td>\n",
       "      <td>the short - term periodicities of the daily su...</td>\n",
       "    </tr>\n",
       "    <tr>\n",
       "      <th>1</th>\n",
       "      <td>it is believed that the direct detection of gr...</td>\n",
       "      <td>we study the detectability of circular polariz...</td>\n",
       "    </tr>\n",
       "    <tr>\n",
       "      <th>2</th>\n",
       "      <td>as a common quantum phenomenon , the tunneling...</td>\n",
       "      <td>starting from the wkb approximation , a new ba...</td>\n",
       "    </tr>\n",
       "    <tr>\n",
       "      <th>3</th>\n",
       "      <td>for the hybrid monte carlo algorithm ( hmc)@xc...</td>\n",
       "      <td>we study a novel class of numerical integrator...</td>\n",
       "    </tr>\n",
       "    <tr>\n",
       "      <th>4</th>\n",
       "      <td>recently it was discovered that feynman integr...</td>\n",
       "      <td>new methods for obtaining functional equations...</td>\n",
       "    </tr>\n",
       "  </tbody>\n",
       "</table>\n",
       "</div>"
      ],
      "text/plain": [
       "                                             article  \\\n",
       "0  for about 20 years the problem of properties o...   \n",
       "1  it is believed that the direct detection of gr...   \n",
       "2  as a common quantum phenomenon , the tunneling...   \n",
       "3  for the hybrid monte carlo algorithm ( hmc)@xc...   \n",
       "4  recently it was discovered that feynman integr...   \n",
       "\n",
       "                                            abstract  \n",
       "0  the short - term periodicities of the daily su...  \n",
       "1  we study the detectability of circular polariz...  \n",
       "2  starting from the wkb approximation , a new ba...  \n",
       "3  we study a novel class of numerical integrator...  \n",
       "4  new methods for obtaining functional equations...  "
      ]
     },
     "execution_count": 13,
     "metadata": {},
     "output_type": "execute_result"
    }
   ],
   "source": [
    "test_df.head()"
   ]
  },
  {
   "cell_type": "code",
   "execution_count": 14,
   "metadata": {},
   "outputs": [
    {
     "data": {
      "text/html": [
       "<div>\n",
       "<style scoped>\n",
       "    .dataframe tbody tr th:only-of-type {\n",
       "        vertical-align: middle;\n",
       "    }\n",
       "\n",
       "    .dataframe tbody tr th {\n",
       "        vertical-align: top;\n",
       "    }\n",
       "\n",
       "    .dataframe thead th {\n",
       "        text-align: right;\n",
       "    }\n",
       "</style>\n",
       "<table border=\"1\" class=\"dataframe\">\n",
       "  <thead>\n",
       "    <tr style=\"text-align: right;\">\n",
       "      <th></th>\n",
       "      <th>article</th>\n",
       "      <th>abstract</th>\n",
       "    </tr>\n",
       "  </thead>\n",
       "  <tbody>\n",
       "    <tr>\n",
       "      <th>0</th>\n",
       "      <td>the interest in anchoring phenomena and phenom...</td>\n",
       "      <td>we study the phase behavior of a nematic liqui...</td>\n",
       "    </tr>\n",
       "    <tr>\n",
       "      <th>1</th>\n",
       "      <td>galaxy clusters , as the largest peaks in the ...</td>\n",
       "      <td>determining the scaling relations between gala...</td>\n",
       "    </tr>\n",
       "    <tr>\n",
       "      <th>2</th>\n",
       "      <td>quantum correlations between components of a s...</td>\n",
       "      <td>we show how to control spatial quantum correla...</td>\n",
       "    </tr>\n",
       "    <tr>\n",
       "      <th>3</th>\n",
       "      <td>methanol masers are often found in star - form...</td>\n",
       "      <td>class  i methanol masers are believed to be pr...</td>\n",
       "    </tr>\n",
       "    <tr>\n",
       "      <th>4</th>\n",
       "      <td>interdisciplinary research has recently gained...</td>\n",
       "      <td>nowadays , scientific challenges usually requi...</td>\n",
       "    </tr>\n",
       "  </tbody>\n",
       "</table>\n",
       "</div>"
      ],
      "text/plain": [
       "                                             article  \\\n",
       "0  the interest in anchoring phenomena and phenom...   \n",
       "1  galaxy clusters , as the largest peaks in the ...   \n",
       "2  quantum correlations between components of a s...   \n",
       "3  methanol masers are often found in star - form...   \n",
       "4  interdisciplinary research has recently gained...   \n",
       "\n",
       "                                            abstract  \n",
       "0  we study the phase behavior of a nematic liqui...  \n",
       "1  determining the scaling relations between gala...  \n",
       "2  we show how to control spatial quantum correla...  \n",
       "3  class  i methanol masers are believed to be pr...  \n",
       "4  nowadays , scientific challenges usually requi...  "
      ]
     },
     "execution_count": 14,
     "metadata": {},
     "output_type": "execute_result"
    }
   ],
   "source": [
    "val_df.head()"
   ]
  },
  {
   "cell_type": "code",
   "execution_count": 24,
   "metadata": {},
   "outputs": [],
   "source": [
    "def df_len_stats(df):\n",
    "    for col in df.columns.tolist():\n",
    "        mean_length = round(df[col].apply(len).mean())\n",
    "        print(f\"Average length of column {col}: {mean_length}\")\n",
    "    \n",
    "    print(f\"\\n{'-------'*10}\")"
   ]
  },
  {
   "cell_type": "code",
   "execution_count": 25,
   "metadata": {},
   "outputs": [
    {
     "name": "stdout",
     "output_type": "stream",
     "text": [
      "Average length of column article: 33842\n",
      "Average length of column abstract: 1619\n",
      "\n",
      "----------------------------------------------------------------------\n",
      "Average length of column article: 33062\n",
      "Average length of column abstract: 966\n",
      "\n",
      "----------------------------------------------------------------------\n",
      "Average length of column article: 33028\n",
      "Average length of column abstract: 959\n",
      "\n",
      "----------------------------------------------------------------------\n"
     ]
    }
   ],
   "source": [
    "df_len_stats(train_df)\n",
    "\n",
    "df_len_stats(test_df)\n",
    "\n",
    "df_len_stats(val_df)"
   ]
  },
  {
   "cell_type": "code",
   "execution_count": 31,
   "metadata": {},
   "outputs": [],
   "source": [
    "import sys\n",
    "\n",
    "sys.path.append(\"..\")\n",
    "\n",
    "data_path = \"../data/summarization\"\n",
    "\n",
    "train_df.to_csv(f\"{data_path}/train_summ.csv\", index=False)\n",
    "\n",
    "test_df.to_csv(f\"{data_path}/test_summ.csv\", index=False)\n",
    "\n",
    "val_df.to_csv(f\"{data_path}/val_summ.csv\", index=False)"
   ]
  },
  {
   "cell_type": "code",
   "execution_count": null,
   "metadata": {},
   "outputs": [],
   "source": []
  }
 ],
 "metadata": {
  "kernelspec": {
   "display_name": ".venv",
   "language": "python",
   "name": "python3"
  },
  "language_info": {
   "codemirror_mode": {
    "name": "ipython",
    "version": 3
   },
   "file_extension": ".py",
   "mimetype": "text/x-python",
   "name": "python",
   "nbconvert_exporter": "python",
   "pygments_lexer": "ipython3",
   "version": "3.11.8"
  }
 },
 "nbformat": 4,
 "nbformat_minor": 2
}
