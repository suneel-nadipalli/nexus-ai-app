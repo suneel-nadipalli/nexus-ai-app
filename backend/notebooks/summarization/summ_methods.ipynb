{
 "cells": [
  {
   "cell_type": "code",
   "execution_count": 1,
   "metadata": {},
   "outputs": [],
   "source": [
    "%reload_ext autoreload\n",
    "%autoreload 2"
   ]
  },
  {
   "cell_type": "code",
   "execution_count": 2,
   "metadata": {},
   "outputs": [
    {
     "name": "stderr",
     "output_type": "stream",
     "text": [
      "Failed to detect the name of this notebook, you can set it manually with the WANDB_NOTEBOOK_NAME environment variable to enable code saving.\n",
      "\u001b[34m\u001b[1mwandb\u001b[0m: Currently logged in as: \u001b[33mn-suneel89\u001b[0m (\u001b[33mn-suneel-duke\u001b[0m). Use \u001b[1m`wandb login --relogin`\u001b[0m to force relogin\n",
      "\u001b[34m\u001b[1mwandb\u001b[0m: \u001b[33mWARNING\u001b[0m If you're specifying your api key in code, ensure this code is not shared publicly.\n",
      "\u001b[34m\u001b[1mwandb\u001b[0m: \u001b[33mWARNING\u001b[0m Consider setting the WANDB_API_KEY environment variable, or running `wandb login` from the command line.\n",
      "\u001b[34m\u001b[1mwandb\u001b[0m: Appending key for api.wandb.ai to your netrc file: C:\\Users\\91939\\.netrc\n",
      "c:\\Me\\Duke\\Classes\\Spring '24\\AIPI 540 - Deep Learning\\Individual Project\\workspace\\.venv\\Lib\\site-packages\\tqdm\\auto.py:21: TqdmWarning: IProgress not found. Please update jupyter and ipywidgets. See https://ipywidgets.readthedocs.io/en/stable/user_install.html\n",
      "  from .autonotebook import tqdm as notebook_tqdm\n"
     ]
    },
    {
     "name": "stdout",
     "output_type": "stream",
     "text": [
      "Token has not been saved to git credential helper. Pass `add_to_git_credential=True` if you want to set the git credential as well.\n",
      "Token is valid (permission: write).\n",
      "Your token has been saved to C:\\Users\\91939\\.cache\\huggingface\\token\n",
      "Login successful\n"
     ]
    }
   ],
   "source": [
    "\n",
    "import configparser, os\n",
    "\n",
    "import huggingface_hub, wandb\n",
    "\n",
    "config = configparser.ConfigParser()\n",
    "\n",
    "config.read('../../config/config.ini')\n",
    "\n",
    "SECRETS = config['SECRETS']\n",
    "\n",
    "# set openai api key\n",
    "\n",
    "os.environ['OPENAI_API_KEY'] = SECRETS['openapi_key']\n",
    "\n",
    "wandb.login(key = SECRETS['wandb_key'])\n",
    "\n",
    "huggingface_hub.login(token = SECRETS['hf_key'])\n"
   ]
  },
  {
   "cell_type": "code",
   "execution_count": 3,
   "metadata": {},
   "outputs": [],
   "source": [
    "import sys\n",
    "\n",
    "sys.path.append('../../')\n",
    "\n",
    "from scripts.summarization import rag_summ, t5_summ, falcon_summ"
   ]
  },
  {
   "cell_type": "code",
   "execution_count": 4,
   "metadata": {},
   "outputs": [],
   "source": [
    "import os\n",
    "\n",
    "base_path = \"../../data/pdf\"\n",
    "\n",
    "samples = []\n",
    "\n",
    "pdfs = os.listdir(base_path)\n",
    "\n",
    "pdf_path = f\"{base_path}/{pdfs[5]}\"\n",
    "\n",
    "CHROMA_PATH = pdf_path.split(\"/\")[-1].split(\".\")[0]"
   ]
  },
  {
   "cell_type": "code",
   "execution_count": 5,
   "metadata": {},
   "outputs": [],
   "source": [
    "pages = rag_summ.read_pages(pdf_path)"
   ]
  },
  {
   "cell_type": "code",
   "execution_count": 6,
   "metadata": {},
   "outputs": [],
   "source": [
    "chunks = rag_summ.get_chunks(pdf_path)"
   ]
  },
  {
   "cell_type": "code",
   "execution_count": 7,
   "metadata": {},
   "outputs": [
    {
     "name": "stderr",
     "output_type": "stream",
     "text": [
      "c:\\Me\\Duke\\Classes\\Spring '24\\AIPI 540 - Deep Learning\\Individual Project\\workspace\\.venv\\Lib\\site-packages\\langchain_core\\_api\\deprecation.py:119: LangChainDeprecationWarning: The class `OpenAIEmbeddings` was deprecated in LangChain 0.0.9 and will be removed in 0.2.0. An updated version of the class exists in the langchain-openai package and should be used instead. To use it run `pip install -U langchain-openai` and import as `from langchain_openai import OpenAIEmbeddings`.\n",
      "  warn_deprecated(\n"
     ]
    }
   ],
   "source": [
    "db = rag_summ.get_vectordb(chunks, CHROMA_PATH)"
   ]
  },
  {
   "cell_type": "code",
   "execution_count": 8,
   "metadata": {},
   "outputs": [
    {
     "name": "stderr",
     "output_type": "stream",
     "text": [
      "c:\\Me\\Duke\\Classes\\Spring '24\\AIPI 540 - Deep Learning\\Individual Project\\workspace\\.venv\\Lib\\site-packages\\langchain_core\\_api\\deprecation.py:119: LangChainDeprecationWarning: The class `ChatOpenAI` was deprecated in LangChain 0.0.10 and will be removed in 0.2.0. An updated version of the class exists in the langchain-openai package and should be used instead. To use it run `pip install -U langchain-openai` and import as `from langchain_openai import ChatOpenAI`.\n",
      "  warn_deprecated(\n",
      "c:\\Me\\Duke\\Classes\\Spring '24\\AIPI 540 - Deep Learning\\Individual Project\\workspace\\.venv\\Lib\\site-packages\\langchain_core\\_api\\deprecation.py:119: LangChainDeprecationWarning: The method `BaseChatModel.predict` was deprecated in langchain-core 0.1.7 and will be removed in 0.2.0. Use invoke instead.\n",
      "  warn_deprecated(\n"
     ]
    },
    {
     "name": "stdout",
     "output_type": "stream",
     "text": [
      "CPU times: total: 5.02 s\n",
      "Wall time: 7.1 s\n"
     ]
    }
   ],
   "source": [
    "%%time\n",
    "\n",
    "summary = rag_summ.gen_summary(chunks[0], db)"
   ]
  },
  {
   "cell_type": "code",
   "execution_count": 9,
   "metadata": {},
   "outputs": [
    {
     "data": {
      "text/plain": [
       "{'summary': \"Sita concludes her story by stating that only two more months remained for Rama's return. Hanuman and Sita tell the divine story, hoping it will rid people of their ego. Valmiki, the muni, praises Rama's virtues and qualities extensively in his tale.\",\n",
       " 'text': \"Sita concluded her story with the statement that two more months remained. Reading Hanuman and Sita telling the divine story themselves? As Vamana got the better of Bali and saved him from his ahankara, may this tale of Rama as told by Hanuman and Sita rid us of the sense of 'I' and 'my'. Sita concluded her story with the statement that two more months remained. Rama. Valmiki has filled pages with the tale of Rama's virtues. The muni is never satiated drinking from the ocean of Rama's qualities. He describes Rama's gifts and graces sometimes directly, sometimes as seen and admired by others. Thus and in many other ways he dwells\"}"
      ]
     },
     "execution_count": 9,
     "metadata": {},
     "output_type": "execute_result"
    }
   ],
   "source": [
    "summary"
   ]
  },
  {
   "cell_type": "code",
   "execution_count": 10,
   "metadata": {},
   "outputs": [],
   "source": [
    "t5_pipe = t5_summ.prep_pipeline()"
   ]
  },
  {
   "cell_type": "code",
   "execution_count": 11,
   "metadata": {},
   "outputs": [
    {
     "data": {
      "text/plain": [
       "'Mythology is an integral part of \\nreligion. It is as necessary for religion and \\nnational culture as the skin and the \\nskeleton that preserve a fruit with its juice \\nand its taste. Form is no less essential than \\nsubstance. Myth ology and holy figures are \\nnecessary for any great culture to rest on \\nits stable spiritual foundation and function \\nas a life -giving inspiration and guide.  \\nLet us keep ever in our minds the fact \\nthat it is the Ramayana and the \\nMahabharata that bind our vast  numbers \\ntogether as one people, despite caste, \\nspace and language that seemingly divide \\nthem.  \\n1. THE CONCEPTION  \\nTo the north of the Ganga was the great \\nkingdom Kosala, made fertile by the river \\nSarayu. Its capital was Ayodhya, built by \\nManu, the famous ru ler of the Solar \\ndynasty. From Valmiki\\'s description of \\nthe capital Kosala, it is clear that ancient \\nAyodhya was not inferior to our modern \\ncities. Even in ancient India city \\ncivilisation had reached a high level.  \\nKing Dasaratha ruled the kingdom \\nfrom the capital city of Ayodhya. He had \\nfought on the side of the Devas, and his \\nfame spread in the three worlds. He was \\nthe equal of Indra and Kubera. The people \\nof Kosala were happy, contented and \\nvirtuous. The land was protected by a \\nmighty army, and no enemy c ould come \\nanywhere near  \\nIt contained forts with moats around \\nthem as well as many defensive \\nintallations, and true to its name, Ayodhya \\ndefied all enemies. (Ayodhya means that \\nwhich cannot be subdued by war). \\nDasaratha had eight wise ministers, ever \\nready to advise him and execute his \\norders. Great sages like Vasishtha and \\nVamadeva and other Brahmanas taught \\nthe dharma and performed rituals and \\nsacrifices.  Taxes were light and punishment of \\ncrime was just and inflicted according to \\nthe capacity of the wrong -doer. \\nSurrounded by the best counsellors and \\nstatesmen, the king\\'s splendor shone as the \\nrising sun. Many years rolled smoothly \\nby. In the midst of all this prosperity \\nDasaratha had one regret; he had no son.  \\nOne day in early summer he thought of \\nperformi ng a horse sacrifice for progeny. \\nHe consulted his religious masters and on \\ntheir advice, got sage Rishyasringa to \\nperform the Yaga. The Yaga was a grand \\naffair and the invitees included many of \\nthe kings of the day. It was no easy thing \\nto perform yagas. The location and \\nerection of the sacrificial platform had to \\nbe attended to in detail strictly according \\nto prescribed rules. There were experts \\nwhose guidance was sought in arranging \\nthings.  \\nIt meant the building of a new camp -\\ncity, capable of accommodati ng tens of \\nthousands and providing hospitality and \\nentertainment for the invitees who \\nincluded the princes and sages of the land. \\nIn short, yagas in those days were \\nsomething like our present -day State -\\nsponsored big scale conferences and \\nexhibitions.  \\nWhen all arrangements were complete \\nthe ceremonies were set in motion strictly \\nas enjoined by the Shastras.  \\nContemporaneously with the yaga in \\nAyodhya, there was a conference of the \\nDevas in heaven. The Devas complained \\nto Lord Brahma that Ravana, king of the \\ndemons, drunk with the power acquired \\nby the boon granted to him by Brahma, \\nwas causing them untold misery and \\nhardship. They represented to Brahma: \"It \\nis beyond our capacity to subdue, conquer \\nor kill Ravana. In the security of your \\nboon, he has grown wic ked and insolent \\nand ill -treats all, even women. His desire \\nis to dethrone Indra. You are our only '"
      ]
     },
     "execution_count": 11,
     "metadata": {},
     "output_type": "execute_result"
    }
   ],
   "source": [
    "pages[2]"
   ]
  },
  {
   "cell_type": "code",
   "execution_count": 12,
   "metadata": {},
   "outputs": [
    {
     "name": "stderr",
     "output_type": "stream",
     "text": [
      "Token indices sequence length is longer than the specified maximum sequence length for this model (928 > 512). Running this sequence through the model will result in indexing errors\n"
     ]
    },
    {
     "name": "stdout",
     "output_type": "stream",
     "text": [
      "CPU times: total: 1min 22s\n",
      "Wall time: 20.4 s\n"
     ]
    }
   ],
   "source": [
    "%%time\n",
    "\n",
    "summary = t5_summ.gen_summary(t5_pipe, pages[2])"
   ]
  },
  {
   "cell_type": "code",
   "execution_count": 13,
   "metadata": {},
   "outputs": [
    {
     "data": {
      "text/plain": [
       "'Mythology is an integral part of religion. It is as necessary for any great culture to rest on its stable spiritual foundation and function as a life -giving inspiration and guide. The Ramayana and the Mahabharata bind our vast numbers together as one people, despite caste, space and language that seemingly divide them. The Yagas were something like our present -day State sponsored big scale conferences and exhibitions.'"
      ]
     },
     "execution_count": 13,
     "metadata": {},
     "output_type": "execute_result"
    }
   ],
   "source": [
    "summary"
   ]
  },
  {
   "cell_type": "code",
   "execution_count": 14,
   "metadata": {},
   "outputs": [],
   "source": [
    "falcon_pipe = falcon_summ.prep_pipeline()"
   ]
  },
  {
   "cell_type": "code",
   "execution_count": 15,
   "metadata": {},
   "outputs": [
    {
     "name": "stderr",
     "output_type": "stream",
     "text": [
      "Token indices sequence length is longer than the specified maximum sequence length for this model (928 > 512). Running this sequence through the model will result in indexing errors\n"
     ]
    },
    {
     "name": "stdout",
     "output_type": "stream",
     "text": [
      "CPU times: total: 1min 5s\n",
      "Wall time: 15.8 s\n"
     ]
    }
   ],
   "source": [
    "%%time\n",
    "\n",
    "summary = falcon_summ.gen_summary(falcon_pipe, pages[2])"
   ]
  },
  {
   "cell_type": "code",
   "execution_count": 16,
   "metadata": {},
   "outputs": [
    {
     "name": "stdout",
     "output_type": "stream",
     "text": [
      "Dasaratha ruled the kingdom from the capital city of Ayodhya . He had fought on the side of the Devas, and his fame spread in the three worlds . The Yaga was a grand affair and the invitees included many of the kings of the day .\n"
     ]
    }
   ],
   "source": [
    "print(summary)"
   ]
  },
  {
   "cell_type": "code",
   "execution_count": null,
   "metadata": {},
   "outputs": [],
   "source": []
  }
 ],
 "metadata": {
  "kernelspec": {
   "display_name": ".venv",
   "language": "python",
   "name": "python3"
  },
  "language_info": {
   "codemirror_mode": {
    "name": "ipython",
    "version": 3
   },
   "file_extension": ".py",
   "mimetype": "text/x-python",
   "name": "python",
   "nbconvert_exporter": "python",
   "pygments_lexer": "ipython3",
   "version": "3.11.8"
  }
 },
 "nbformat": 4,
 "nbformat_minor": 2
}
