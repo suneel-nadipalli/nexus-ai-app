{
 "cells": [
  {
   "cell_type": "code",
   "execution_count": 1,
   "metadata": {},
   "outputs": [],
   "source": [
    "%reload_ext autoreload\n",
    "%autoreload 2"
   ]
  },
  {
   "cell_type": "code",
   "execution_count": 2,
   "metadata": {},
   "outputs": [],
   "source": [
    "import os\n",
    "import json\n",
    "import re\n",
    "\n",
    "import openai\n",
    "\n",
    "import langchain\n",
    "\n",
    "import langchain.document_loaders\n",
    "\n",
    "from langchain.document_loaders import DirectoryLoader, PyPDFLoader\n",
    "from langchain.text_splitter import RecursiveCharacterTextSplitter\n",
    "from langchain.schema import Document\n",
    "from langchain.embeddings import OpenAIEmbeddings\n",
    "from langchain.vectorstores.chroma import Chroma\n",
    "import os\n",
    "import shutil\n",
    "\n",
    "from langchain.vectorstores.chroma import Chroma\n",
    "from langchain.embeddings import OpenAIEmbeddings\n",
    "from langchain.chat_models import ChatOpenAI\n",
    "from langchain.prompts import ChatPromptTemplate"
   ]
  },
  {
   "cell_type": "code",
   "execution_count": 3,
   "metadata": {},
   "outputs": [],
   "source": [
    "# read from config.ini file\n",
    "\n",
    "import configparser\n",
    "\n",
    "config = configparser.ConfigParser()\n",
    "\n",
    "config.read('../../config/config.ini')\n",
    "\n",
    "SECRETS = config['SECRETS']\n",
    "\n",
    "# set openai api key\n",
    "\n",
    "os.environ['OPENAI_API_KEY'] = SECRETS['openapi_key']"
   ]
  },
  {
   "cell_type": "code",
   "execution_count": 5,
   "metadata": {},
   "outputs": [],
   "source": [
    "loader = DirectoryLoader(\"../../data/stories\", glob=\"*.txt\")\n",
    "documents = loader.load()"
   ]
  },
  {
   "cell_type": "code",
   "execution_count": 6,
   "metadata": {},
   "outputs": [
    {
     "data": {
      "text/plain": [
       "1"
      ]
     },
     "execution_count": 6,
     "metadata": {},
     "output_type": "execute_result"
    }
   ],
   "source": [
    "len(documents)"
   ]
  },
  {
   "cell_type": "code",
   "execution_count": 7,
   "metadata": {},
   "outputs": [],
   "source": [
    "text_splitter = RecursiveCharacterTextSplitter(\n",
    "    chunk_size=300,\n",
    "    chunk_overlap=100,\n",
    "    length_function=len,\n",
    "    add_start_index=True,\n",
    ")"
   ]
  },
  {
   "cell_type": "code",
   "execution_count": 8,
   "metadata": {},
   "outputs": [],
   "source": [
    "chunks = text_splitter.split_documents(documents)"
   ]
  },
  {
   "cell_type": "code",
   "execution_count": 9,
   "metadata": {},
   "outputs": [
    {
     "name": "stderr",
     "output_type": "stream",
     "text": [
      "c:\\Me\\Duke\\Classes\\Spring '24\\AIPI 540 - Deep Learning\\Individual Project\\workspace\\.venv\\Lib\\site-packages\\langchain_core\\_api\\deprecation.py:119: LangChainDeprecationWarning: The class `OpenAIEmbeddings` was deprecated in LangChain 0.0.9 and will be removed in 0.2.0. An updated version of the class exists in the langchain-openai package and should be used instead. To use it run `pip install -U langchain-openai` and import as `from langchain_openai import OpenAIEmbeddings`.\n",
      "  warn_deprecated(\n"
     ]
    }
   ],
   "source": [
    "CHROMA_PATH = \"../../data/chroma/ramayana\"\n",
    "\n",
    "if os.path.exists(CHROMA_PATH):\n",
    "    db = Chroma(persist_directory=CHROMA_PATH, embedding_function=OpenAIEmbeddings())\n",
    "\n",
    "else:\n",
    "    db = Chroma.from_documents(\n",
    "        chunks, OpenAIEmbeddings(), persist_directory=CHROMA_PATH\n",
    "    )\n",
    "\n",
    "    db.persist()\n",
    "\n",
    "    print(f\"Saved {len(chunks)} chunks to {CHROMA_PATH}.\")"
   ]
  },
  {
   "cell_type": "code",
   "execution_count": 11,
   "metadata": {},
   "outputs": [],
   "source": [
    "PROMPT_TEMPLATE = \"\"\"\n",
    "Answer the question based only on the following context:\n",
    "\n",
    "{context}\n",
    "\n",
    "---\n",
    "\n",
    "Answer the question based on the above context: {question}\n",
    "\"\"\""
   ]
  },
  {
   "cell_type": "code",
   "execution_count": 26,
   "metadata": {},
   "outputs": [
    {
     "name": "stdout",
     "output_type": "stream",
     "text": [
      "Unable to find matching results.\n",
      "{\n",
      "    \"decision\": \"no\",\n",
      "    \"text\": \"So saying, he withdrew from the field of battle and proceeded south for more rigorous tapas. For years and years Viswamitra went through terrible austerities. Pleased with his perseverance, Brahma presented himself before him. Advising Viswamitra that, as a result of his tapas he had risen to the\",\n",
      "    \"description\": \"This chunk describes Viswamitra's actions and perseverance in performing tapas, but it does not involve a decision that will affect the story in a major way.\"\n",
      "}\n"
     ]
    }
   ],
   "source": [
    "query_text = f\"\"\"\n",
    "\n",
    "Classify whether the given chunk involves a decision that will effect the story or not.\n",
    "\n",
    "A decision is defined as when the character goes about making a choice between two or more options. \n",
    "The decision should be significant enough to affect the story in a major way.\n",
    "It doesn't really involve emotions, feelings or thoughts, but what the character does, or what happens to them.\n",
    "This involes interactions between characters, or the character and the environment.\n",
    "What isn't a decision is chunks describing the setting, or the character's thoughts or feelings.\n",
    "\n",
    "Generate response in a JSON with the following keys: [\"decision\", \"text\", \"description\"]\n",
    "\n",
    "decision: \"yes\"/\"no\"\n",
    "text: the chunk being passed in\n",
    "description: what the decision is\n",
    "\n",
    "```{chunks[50].page_content}```\n",
    "\n",
    "\"\"\"\n",
    "\n",
    "results = db.similarity_search_with_relevance_scores(query_text, k=3)\n",
    "if len(results) == 0 or results[0][1] < 0.7:\n",
    "    print(f\"Unable to find matching results.\")\n",
    "\n",
    "context_text = \"\\n\\n---\\n\\n\".join([doc.page_content for doc, _score in results])\n",
    "prompt_template = ChatPromptTemplate.from_template(PROMPT_TEMPLATE)\n",
    "prompt = prompt_template.format(context=context_text, question=query_text)\n",
    "# print(prompt)\n",
    "\n",
    "model = ChatOpenAI()\n",
    "response_text = model.predict(prompt)\n",
    "\n",
    "sources = [doc.metadata.get(\"source\", None) for doc, _score in results]\n",
    "formatted_response = f\"{response_text}\"\n",
    "print(formatted_response)"
   ]
  },
  {
   "cell_type": "code",
   "execution_count": 27,
   "metadata": {},
   "outputs": [
    {
     "data": {
      "text/plain": [
       "{'decision': 'no',\n",
       " 'text': 'So saying, he withdrew from the field of battle and proceeded south for more rigorous tapas. For years and years Viswamitra went through terrible austerities. Pleased with his perseverance, Brahma presented himself before him. Advising Viswamitra that, as a result of his tapas he had risen to the',\n",
       " 'description': \"This chunk describes Viswamitra's actions and perseverance in performing tapas, but it does not involve a decision that will affect the story in a major way.\"}"
      ]
     },
     "execution_count": 27,
     "metadata": {},
     "output_type": "execute_result"
    }
   ],
   "source": [
    "eval(response_text)"
   ]
  },
  {
   "cell_type": "code",
   "execution_count": 28,
   "metadata": {},
   "outputs": [],
   "source": [
    "temp = [\n",
    "    {'decision': 'no',\n",
    " 'text': \"Don't you see that they would laugh at me? It is easy enough for you to say 'Send Rama away to the forest,' but can Kausalya or I survive his departure? And have you thought of Janaka's daughter? Would it not kill her to hear that Rama is to go away to the Dandaka forest?\",\n",
    " 'description': 'This chunk involves emotions and concerns about the impact of sending Rama away to the forest, rather than a decision that will directly affect the story.'},\n",
    " {'decision': 'no',\n",
    " 'text': 'So saying, he withdrew from the field of battle and proceeded south for more rigorous tapas. For years and years Viswamitra went through terrible austerities. Pleased with his perseverance, Brahma presented himself before him. Advising Viswamitra that, as a result of his tapas he had risen to the',\n",
    " 'description': \"This chunk describes Viswamitra's actions and perseverance in performing tapas, but it does not involve a decision that will affect the story in a major way.\"}\n",
    "]"
   ]
  },
  {
   "cell_type": "code",
   "execution_count": 29,
   "metadata": {},
   "outputs": [
    {
     "data": {
      "text/html": [
       "<div>\n",
       "<style scoped>\n",
       "    .dataframe tbody tr th:only-of-type {\n",
       "        vertical-align: middle;\n",
       "    }\n",
       "\n",
       "    .dataframe tbody tr th {\n",
       "        vertical-align: top;\n",
       "    }\n",
       "\n",
       "    .dataframe thead th {\n",
       "        text-align: right;\n",
       "    }\n",
       "</style>\n",
       "<table border=\"1\" class=\"dataframe\">\n",
       "  <thead>\n",
       "    <tr style=\"text-align: right;\">\n",
       "      <th></th>\n",
       "      <th>decision</th>\n",
       "      <th>text</th>\n",
       "      <th>description</th>\n",
       "    </tr>\n",
       "  </thead>\n",
       "  <tbody>\n",
       "    <tr>\n",
       "      <th>0</th>\n",
       "      <td>no</td>\n",
       "      <td>Don't you see that they would laugh at me? It ...</td>\n",
       "      <td>This chunk involves emotions and concerns abou...</td>\n",
       "    </tr>\n",
       "    <tr>\n",
       "      <th>1</th>\n",
       "      <td>no</td>\n",
       "      <td>So saying, he withdrew from the field of battl...</td>\n",
       "      <td>This chunk describes Viswamitra's actions and ...</td>\n",
       "    </tr>\n",
       "  </tbody>\n",
       "</table>\n",
       "</div>"
      ],
      "text/plain": [
       "  decision                                               text  \\\n",
       "0       no  Don't you see that they would laugh at me? It ...   \n",
       "1       no  So saying, he withdrew from the field of battl...   \n",
       "\n",
       "                                         description  \n",
       "0  This chunk involves emotions and concerns abou...  \n",
       "1  This chunk describes Viswamitra's actions and ...  "
      ]
     },
     "execution_count": 29,
     "metadata": {},
     "output_type": "execute_result"
    }
   ],
   "source": [
    "import pandas as pd\n",
    "\n",
    "pd.DataFrame(temp)"
   ]
  },
  {
   "cell_type": "code",
   "execution_count": null,
   "metadata": {},
   "outputs": [],
   "source": []
  }
 ],
 "metadata": {
  "kernelspec": {
   "display_name": ".venv",
   "language": "python",
   "name": "python3"
  },
  "language_info": {
   "codemirror_mode": {
    "name": "ipython",
    "version": 3
   },
   "file_extension": ".py",
   "mimetype": "text/x-python",
   "name": "python",
   "nbconvert_exporter": "python",
   "pygments_lexer": "ipython3",
   "version": "3.11.8"
  }
 },
 "nbformat": 4,
 "nbformat_minor": 2
}
